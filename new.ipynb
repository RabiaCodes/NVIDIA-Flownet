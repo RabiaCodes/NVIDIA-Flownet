# file temp for google colab
import numpy as np
a=np.abs([1,2,3])
